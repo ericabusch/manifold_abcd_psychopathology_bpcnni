{
 "cells": [
  {
   "cell_type": "code",
   "execution_count": 1,
   "id": "c0fc46fa-68bb-439a-98d5-c7aee3720d32",
   "metadata": {},
   "outputs": [
    {
     "name": "stdout",
     "output_type": "stream",
     "text": [
      "(-0.8912799047605414, 0.3749185174912557)\n",
      "(1.0171097212822702, 0.3091012362386929)\n"
     ]
    }
   ],
   "source": [
    "import numpy as np\n",
    "import pandas as pd\n",
    "import utils\n",
    "import seaborn as sns\n",
    "import matplotlib.pyplot as plt\n",
    "import os, sys, glob\n",
    "import itertools\n",
    "%load_ext autoreload\n",
    "%autoreload 2\n",
    "import statsmodels.api as sm\n",
    "from statsmodels.stats import multitest\n",
    "from scipy.spatial.distance import cdist, pdist, squareform\n",
    "from random import choices, choice\n",
    "import nibabel as nib\n",
    "from sklearn.preprocessing import MinMaxScaler\n",
    "import corrstats\n",
    "import scipy.stats\n",
    "from scipy import stats\n",
    "import phate, scprep\n",
    "from sklearn.linear_model import LogisticRegression\n",
    "import pingouin as pg\n",
    "import matplotlib as mpl\n",
    "import matplotlib\n",
    "import run_exogenous_phate as ephate\n",
    "from functools import reduce\n",
    "from config import * \n",
    "from stats_functions import * \n",
    "from plot_utils import *\n",
    "import mds\n",
    "from sklearn.decomposition import PCA\n",
    "import phate\n",
    "np.random.seed(4)\n",
    "\n",
    "SEED=4\n",
    "np.random.seed(SEED)\n",
    "matplotlib.rcParams['pdf.fonttype'] = 42\n",
    "matplotlib.rcParams['ps.fonttype'] = 42\n",
    "\n",
    "sns.set(context='notebook', style='white')\n",
    "plt.rcParams['legend.title_fontsize'] = 'xx-small'\n",
    "plt.rcParams['legend.fontsize'] = 'xx-small'\n"
   ]
  },
  {
   "cell_type": "code",
   "execution_count": 2,
   "id": "6b5ddf96-63c2-4af0-aa63-6c58cfef177b",
   "metadata": {},
   "outputs": [],
   "source": [
    "# Aggregate intermediate data\n",
    "# # aggregate all the files\n",
    "# longitudinal_df = pd.concat([pd.read_csv(f,index_col=0) for f in glob.glob(RESULTS_DIR_INTERMEDIATE+'/longitudinal*_v8.csv')]).reset_index(drop=True)\n",
    "# baseline_df = pd.concat([pd.read_csv(f,index_col=0) for f in glob.glob(RESULTS_DIR_INTERMEDIATE+'/baseline*_v2.csv')]).reset_index(drop=True)\n",
    "\n",
    "# # label what's got the embedding or not\n",
    "# longitudinal_df['is_embed']=np.ones(len(longitudinal_df))\n",
    "# for i in longitudinal_df.index:\n",
    "#     if longitudinal_df.iloc[i]['embedding_type']=='brain':\n",
    "#         longitudinal_df.at[i,'is_embed']=0\n",
    "\n",
    "# baseline_df['is_embed']=np.ones(len(baseline_df))\n",
    "# for i in baseline_df.index:\n",
    "#     if baseline_df.iloc[i]['embedding_type']=='brain':\n",
    "#         baseline_df.at[i,'is_embed']=0\n",
    "\n",
    "# longitudinal_df.to_csv(f'{FINAL_RESULTS}/longitudinal_prediction_results.csv')\n",
    "# baseline_df.to_csv(f'{FINAL_RESULTS}/cross_sectional_prediction_results.csv')\n",
    "\n",
    "# # reload \n",
    "longitudinal_df = pd.read_csv(f'{FINAL_RESULTS}/longitudinal_prediction_results.csv',index_col=0)\n",
    "baseline_df = pd.read_csv(f'{FINAL_RESULTS}/cross_sectional_prediction_results.csv',index_col=0)"
   ]
  },
  {
   "cell_type": "code",
   "execution_count": 3,
   "id": "b024888f-79fd-4d6a-8282-9bb53874c3b6",
   "metadata": {},
   "outputs": [],
   "source": [
    "main_methods = ['brain','vanilla_PHATE','EPHATE_5']\n",
    "main_dvs = PREDICTORS_OF_INTEREST[5:8]\n",
    "supp_methods_f3 = ['PCA','UMAP','EPHATE_5']\n",
    "supp_methods_f4 = ['EPHATE_control','PHATE_PLUS_FEATURES','EPHATE_5']\n",
    "supp_methods_f5 = ['EPHATE_ADI','EPHATE_SSCEY', 'EPHATE_5']\n",
    "supp_DVs = PREDICTORS_OF_INTEREST[:5]\n",
    "METHOD_SETS = {'main': main_methods, \n",
    "               'meth_s3':supp_methods_f3, \n",
    "               'meth_s4': supp_methods_f4, \n",
    "               'meth_s5':supp_methods_f5}\n",
    "CONTRAST_LABELS = ['','']"
   ]
  },
  {
   "cell_type": "markdown",
   "id": "eb80a481-5a0c-4bb9-ae4b-32b82543d3da",
   "metadata": {},
   "source": [
    "# Figure 2"
   ]
  },
  {
   "cell_type": "code",
   "execution_count": 15,
   "id": "1c264546-dd1c-4099-bfed-043b13b73919",
   "metadata": {},
   "outputs": [
    {
     "data": {
      "text/plain": [
       "<Figure size 2662.25x500 with 0 Axes>"
      ]
     },
     "metadata": {},
     "output_type": "display_data"
    }
   ],
   "source": [
    "DVs = ['tfmri_nb_all_beh_ctotal_rate']\n",
    "result_title = 'figure2'\n",
    "methods_here = ['brain','vanilla_PHATE']\n",
    "n=20\n",
    "y='partial_corr_rho'\n",
    "titles=['EN-Back task performance']\n",
    "xvals_here={'brain_vanilla_PHATE': (-0.2, 0.2)}\n",
    "yvals_here = {'brain_vanilla_PHATE':0.63}\n",
    "hue_order=methods_here\n",
    "dv = DVs[0]\n",
    "# filter to get cross-validation, embedding types, and embeddings in 20 dimensions (or full voxel dim)\n",
    "baseline_df_here = baseline_df[(baseline_df['fold']!='overall') & (baseline_df['embedding_type'].isin(methods_here))\n",
    "                    &((baseline_df['n_dimensions']==n) | (baseline_df['is_embed']==0)) \n",
    "& (baseline_df['predictor']== dv)].reset_index(drop=True)\n",
    "\n",
    "# run pairwise statistics, permutation test 2 tailed\n",
    "stat_df_here = run_pairwise_stats(baseline_df_here, y, methods_here, nperm=10000, alt='two-sided')\n",
    "# get bootstrapped CIs of mean\n",
    "bs_resx = return_bootstrap_info(baseline_df_here)\n",
    "bs_resx['event']='baseline'\n",
    "bs_resx['DV']=dv\n",
    "stat_df_here['event']='baseline'\n",
    "stat_df_here['DV']=dv\n",
    "# plot barplot with statistical significance\n",
    "barplot_signif(baseline_df_here, stat_df_here, y, hue_order=hue_order, hue_label='embedding_type', \n",
    "                   ylabel=y, xname='contrast', \n",
    "                   columns='ROI_name', ylim=(-0.1, 0.7), yax=True, \n",
    "                   xvals=xvals_here, yvals=yvals_here, xlabels=CONTRAST_LABELS, title=f'{titles[0]}',\n",
    "                   outfn=f'{FINAL_PLOTS}/{result_title}.pdf')\n",
    "stat_df_here.to_csv(f'{FINAL_RESULTS}/{result_title}_pairwise_stats_cross_sectional.csv')\n",
    "bs_resx.to_csv(f'{FINAL_RESULTS}/{result_title}_confidence_interval_cross_sectional.csv')\n"
   ]
  },
  {
   "cell_type": "markdown",
   "id": "6b69fbc1-aaf9-427f-b1dd-16dc2ff4c943",
   "metadata": {
    "jp-MarkdownHeadingCollapsed": true
   },
   "source": [
    "# Figure 3"
   ]
  },
  {
   "cell_type": "code",
   "execution_count": 16,
   "id": "89e0693b-4476-4eba-b0c2-19f3037b47e5",
   "metadata": {},
   "outputs": [
    {
     "name": "stdout",
     "output_type": "stream",
     "text": [
      "tfmri_nb_all_beh_ctotal_rate 20\n"
     ]
    },
    {
     "data": {
      "text/plain": [
       "<Figure size 2662.25x500 with 0 Axes>"
      ]
     },
     "metadata": {},
     "output_type": "display_data"
    },
    {
     "data": {
      "text/plain": [
       "<Figure size 2662.25x500 with 0 Axes>"
      ]
     },
     "metadata": {},
     "output_type": "display_data"
    },
    {
     "data": {
      "text/plain": [
       "<Figure size 2662.25x500 with 0 Axes>"
      ]
     },
     "metadata": {},
     "output_type": "display_data"
    }
   ],
   "source": [
    "DVs = main_dvs\n",
    "methods_here = main_methods\n",
    "baseline_df_here = baseline_df[(baseline_df['fold']!='overall') & (baseline_df['embedding_type'].isin(methods_here))].reset_index(drop=True)\n",
    "titles=['Baseline CBCL total problem', 'Baseline CBCL internalizing', 'Baseline CBCL externalizing']\n",
    "\n",
    "xvals_here = {'brain_vanilla_PHATE': (-0.25, -0.05), 'EPHATE_5_brain': (-0.25, 0.25), 'EPHATE_5_vanilla_PHATE':(0.05, 0.25)}\n",
    "yvals_here = {'brain_vanilla_PHATE':0.19, 'EPHATE_5_vanilla_PHATE':0.19, 'EPHATE_5_brain': 0.21}\n",
    "\n",
    "ylim=(-0.1, 0.23)\n",
    "stats_df_list=[]\n",
    "ci_list_here=[]\n",
    "cols=['predictor']\n",
    "y='partial_corr_rho'\n",
    "hue_order=methods_here\n",
    "n=20\n",
    "result_title='figure3'\n",
    "df1=baseline_df_here[(baseline_df_here['n_dimensions']==n) | (baseline_df_here['is_embed']==0)].reset_index(drop=True)\n",
    "# run for each DV\n",
    "for i in range(len(DVs)): \n",
    "    dv=DVs[i]\n",
    "    result_title_i = f'{result_title}_{dv}'\n",
    "    vals = [dv]\n",
    "    df_here = extract_results(df1, cols, vals).reset_index(drop=True)\n",
    "    stat_df_here = run_pairwise_stats(df_here, y, methods_here, nperm=10000, alt='two-sided')\n",
    "    \n",
    "    bs_resx = return_bootstrap_info(df_here)\n",
    "    bs_resx['event']='baseline'\n",
    "    bs_resx['DV']=dv\n",
    "    bs_resx['n_dimensions']=n\n",
    "    \n",
    "    stat_df_here['event']='baseline'\n",
    "    stat_df_here['DV']=dv\n",
    "    stat_df_here['n_dimensions']=n\n",
    "    \n",
    "    stats_df_list.append(stat_df_here)\n",
    "    ci_list_here.append(bs_resx)\n",
    "    \n",
    "    barplot_signif(df_here, stat_df_here, y, hue_order=hue_order, hue_label='embedding_type', \n",
    "                   ylabel=y, xname='contrast', \n",
    "                   columns='ROI_name', ylim=ylim, yax=True, \n",
    "                   xvals=xvals_here, yvals=yvals_here, xlabels=CONTRAST_LABELS, title=f'{titles[i]}',\n",
    "                   outfn=f'{FINAL_PLOTS}/{result_title_i}.pdf')\n",
    "\n",
    "stat_df=pd.concat(stats_df_list).reset_index(drop=True)\n",
    "bs_resx=pd.concat(ci_list_here).reset_index(drop=True)\n",
    "stat_df_here.to_csv(f'{FINAL_RESULTS}/{result_title}_pairwise_stats_cross_sectional.csv')\n",
    "bs_resx.to_csv(f'{FINAL_RESULTS}/{result_title}_confidence_interval_cross_sectional.csv')"
   ]
  },
  {
   "cell_type": "markdown",
   "id": "5701ee70-d03d-41b2-9048-4cda3f17226e",
   "metadata": {},
   "source": [
    "# Figure 4"
   ]
  },
  {
   "cell_type": "code",
   "execution_count": 19,
   "id": "a338efe0-059c-4e27-820a-9f16c9b3a81b",
   "metadata": {},
   "outputs": [
    {
     "name": "stdout",
     "output_type": "stream",
     "text": [
      "figure4_cbcl_scr_syn_totprob_t\n",
      "figure4_cbcl_scr_syn_internal_t\n",
      "figure4_cbcl_scr_syn_external_t\n"
     ]
    },
    {
     "data": {
      "text/plain": [
       "<Figure size 2662.25x500 with 0 Axes>"
      ]
     },
     "metadata": {},
     "output_type": "display_data"
    },
    {
     "data": {
      "text/plain": [
       "<Figure size 2662.25x500 with 0 Axes>"
      ]
     },
     "metadata": {},
     "output_type": "display_data"
    },
    {
     "data": {
      "text/plain": [
       "<Figure size 2662.25x500 with 0 Axes>"
      ]
     },
     "metadata": {},
     "output_type": "display_data"
    }
   ],
   "source": [
    "DVs = main_dvs\n",
    "methods_here = main_methods\n",
    "longitudinal_df = longitudinal_df[(longitudinal_df['fold']!='overall') & (longitudinal_df['embedding_type'].isin(methods_here))].reset_index(drop=True)\n",
    "titles=['2-year CBCL total problem', '2-year CBCL internalizing', '2-year CBCL externalizing']\n",
    "\n",
    "xvals_here = {'brain_vanilla_PHATE': (-0.25, -0.05), 'EPHATE_5_brain': (-0.25, 0.25), 'EPHATE_5_vanilla_PHATE':(0.05, 0.25)}\n",
    "yvals_here={'brain_vanilla_PHATE': 0.12,\n",
    " 'EPHATE_5_vanilla_PHATE': 0.12,\n",
    " 'EPHATE_5_brain': 0.14}\n",
    "\n",
    "ylim=(-0.1, 0.16)\n",
    "stats_df_list=[]\n",
    "ci_list_here=[]\n",
    "cols=['predictor']\n",
    "y='partial_corr_rho'\n",
    "hue_order=methods_here\n",
    "n=20\n",
    "result_title='figure4'\n",
    "df1=longitudinal_df[(longitudinal_df['n_dimensions']==n) | (longitudinal_df['is_embed']==0)].reset_index(drop=True)\n",
    "stats_df_list, ci_list_here = [], []\n",
    "# run for each DV\n",
    "for i in range(len(DVs)): \n",
    "    dv=DVs[i]\n",
    "    result_title_i = f'{result_title}_{dv}'\n",
    "    vals = [dv]\n",
    "    df_here = extract_results(df1, cols, vals).reset_index(drop=True)\n",
    "    stat_df_here = run_pairwise_stats(df_here, y, methods_here, nperm=10000, alt='greater')\n",
    "    \n",
    "    bs_resx = return_bootstrap_info(df_here)\n",
    "    bs_resx['event']='baseline'\n",
    "    bs_resx['DV']=dv\n",
    "    bs_resx['n_dimensions']=n\n",
    "    \n",
    "    stat_df_here['event']='baseline'\n",
    "    stat_df_here['DV']=dv\n",
    "    stat_df_here['n_dimensions']=n\n",
    "    \n",
    "    stats_df_list.append(stat_df_here)\n",
    "    ci_list_here.append(bs_resx)\n",
    "    \n",
    "    barplot_signif(df_here, stat_df_here, y, hue_order=hue_order, hue_label='embedding_type', \n",
    "                   ylabel=y, xname='contrast', \n",
    "                   columns='ROI_name', ylim=ylim, yax=True, \n",
    "                   xvals=xvals_here, yvals=yvals_here, xlabels=CONTRAST_LABELS, title=f'{titles[i]}',\n",
    "                   outfn=f'{FINAL_PLOTS}/{result_title_i}.pdf')\n",
    "    print(result_title_i)\n",
    "    \n",
    "\n",
    "stat_df=pd.concat(stats_df_list).reset_index(drop=True)\n",
    "bs_resx=pd.concat(ci_list_here).reset_index(drop=True)\n",
    "stat_df_here.to_csv(f'{FINAL_RESULTS}/{result_title}_pairwise_stats_longitudinal.csv')\n",
    "bs_resx.to_csv(f'{FINAL_RESULTS}/{result_title}_confidence_interval_longitudinal.csv')"
   ]
  },
  {
   "cell_type": "markdown",
   "id": "47375d26-c296-4a9f-af2e-9af5b4b45c94",
   "metadata": {},
   "source": [
    "# Figure S2"
   ]
  },
  {
   "cell_type": "code",
   "execution_count": 21,
   "id": "82561586-ca56-4dc9-84af-899a9fd322b5",
   "metadata": {},
   "outputs": [
    {
     "name": "stdout",
     "output_type": "stream",
     "text": [
      "figure_s2_cbcl_scr_syn_anxdep_t\n",
      "figure_s2_cbcl_scr_syn_withdep_t\n",
      "figure_s2_cbcl_scr_syn_somatic_t\n",
      "figure_s2_cbcl_scr_syn_rulebreak_t\n",
      "figure_s2_cbcl_scr_syn_aggressive_t\n"
     ]
    },
    {
     "data": {
      "text/plain": [
       "<Figure size 2662.25x500 with 0 Axes>"
      ]
     },
     "metadata": {},
     "output_type": "display_data"
    },
    {
     "data": {
      "text/plain": [
       "<Figure size 2662.25x500 with 0 Axes>"
      ]
     },
     "metadata": {},
     "output_type": "display_data"
    },
    {
     "data": {
      "text/plain": [
       "<Figure size 2662.25x500 with 0 Axes>"
      ]
     },
     "metadata": {},
     "output_type": "display_data"
    },
    {
     "data": {
      "text/plain": [
       "<Figure size 2662.25x500 with 0 Axes>"
      ]
     },
     "metadata": {},
     "output_type": "display_data"
    },
    {
     "data": {
      "text/plain": [
       "<Figure size 2662.25x500 with 0 Axes>"
      ]
     },
     "metadata": {},
     "output_type": "display_data"
    }
   ],
   "source": [
    "DVs = supp_DVs\n",
    "methods_here = main_methods\n",
    "baseline_df_here = baseline_df[(baseline_df['fold']!='overall') & (baseline_df['embedding_type'].isin(methods_here))].reset_index(drop=True)\n",
    "\n",
    "titles=['CBCL anxdep', 'CBCL withdep', 'CBCL somatic', 'CBCL rulebreaking', 'CBCL aggressive']\n",
    "\n",
    "xvals_here = {'brain_vanilla_PHATE': (-0.25, -0.05), 'EPHATE_5_brain': (-0.25, 0.25), 'EPHATE_5_vanilla_PHATE':(0.05, 0.25)}\n",
    "yvals_here = {'brain_vanilla_PHATE':0.19, 'EPHATE_5_vanilla_PHATE':0.19, 'EPHATE_5_brain': 0.21}\n",
    "\n",
    "ylim=(-0.1, 0.23)\n",
    "stats_df_list=[]\n",
    "ci_list_here=[]\n",
    "cols=['predictor']\n",
    "y='partial_corr_rho'\n",
    "hue_order=methods_here\n",
    "n=20\n",
    "result_title='figure_s2'\n",
    "df1=baseline_df_here[(baseline_df_here['n_dimensions']==n) | (baseline_df_here['is_embed']==0)].reset_index(drop=True)\n",
    "# run for each DV\n",
    "for i in range(len(DVs)): \n",
    "    dv=DVs[i]\n",
    "    result_title_i = f'{result_title}_{dv}'\n",
    "    vals = [dv]\n",
    "    df_here = extract_results(df1, cols, vals).reset_index(drop=True)\n",
    "    stat_df_here = run_pairwise_stats(df_here, y, methods_here, nperm=10000, alt='two-sided')\n",
    "    \n",
    "    bs_resx = return_bootstrap_info(df_here)\n",
    "    bs_resx['event']='baseline'\n",
    "    bs_resx['DV']=dv\n",
    "    bs_resx['n_dimensions']=n\n",
    "    \n",
    "    stat_df_here['event']='baseline'\n",
    "    stat_df_here['DV']=dv\n",
    "    stat_df_here['n_dimensions']=n\n",
    "    \n",
    "    stats_df_list.append(stat_df_here)\n",
    "    ci_list_here.append(bs_resx)\n",
    "    \n",
    "    barplot_signif(df_here, stat_df_here, y, hue_order=hue_order, hue_label='embedding_type', \n",
    "                   ylabel=y, xname='contrast', \n",
    "                   columns='ROI_name', ylim=ylim, yax=True, \n",
    "                   xvals=xvals_here, yvals=yvals_here, xlabels=CONTRAST_LABELS, title=f'{titles[i]}',\n",
    "                   outfn=f'{FINAL_PLOTS}/{result_title_i}.pdf')\n",
    "    print(result_title_i)\n",
    "\n",
    "stat_df=pd.concat(stats_df_list).reset_index(drop=True)\n",
    "bs_resx=pd.concat(ci_list_here).reset_index(drop=True)\n",
    "stat_df_here.to_csv(f'{FINAL_RESULTS}/{result_title}_pairwise_stats_cross_sectional.csv')\n",
    "bs_resx.to_csv(f'{FINAL_RESULTS}/{result_title}_confidence_interval_cross_sectional.csv')"
   ]
  },
  {
   "cell_type": "markdown",
   "id": "81d8973f-505f-437a-997d-9b1ee5f622e6",
   "metadata": {},
   "source": [
    "# Figure S3"
   ]
  },
  {
   "cell_type": "code",
   "execution_count": 25,
   "id": "3c84ed46-9a1e-4cf3-8bfc-9f4fe0a089f0",
   "metadata": {},
   "outputs": [
    {
     "name": "stdout",
     "output_type": "stream",
     "text": [
      "figure_s3_cbcl_scr_syn_totprob_t\n",
      "figure_s3_cbcl_scr_syn_internal_t\n",
      "figure_s3_cbcl_scr_syn_external_t\n"
     ]
    },
    {
     "data": {
      "text/plain": [
       "<Figure size 2652.1x500 with 0 Axes>"
      ]
     },
     "metadata": {},
     "output_type": "display_data"
    },
    {
     "data": {
      "text/plain": [
       "<Figure size 2652.1x500 with 0 Axes>"
      ]
     },
     "metadata": {},
     "output_type": "display_data"
    },
    {
     "data": {
      "text/plain": [
       "<Figure size 2652.1x500 with 0 Axes>"
      ]
     },
     "metadata": {},
     "output_type": "display_data"
    }
   ],
   "source": [
    "DVs = main_dvs\n",
    "methods_here = supp_methods_f3\n",
    "baseline_df_here = baseline_df[(baseline_df['fold']!='overall') & (baseline_df['embedding_type'].isin(methods_here))].reset_index(drop=True)\n",
    "\n",
    "titles=['CBCL total problem', 'CBCL internalizing', 'CBCL externalizing']\n",
    "xvals_here = {'PCA_UMAP': (-0.25, -0.05), 'EPHATE_5_PCA': (-0.25, 0.25), 'EPHATE_5_UMAP':(0.05, 0.25)}\n",
    "yvals_here = {'PCA_UMAP':0.19, 'EPHATE_5_UMAP':0.19, 'EPHATE_5_PCA': 0.21}\n",
    "\n",
    "ylim=(-0.1, 0.23)\n",
    "stats_df_list=[]\n",
    "ci_list_here=[]\n",
    "cols=['predictor']\n",
    "y='partial_corr_rho'\n",
    "hue_order=methods_here\n",
    "n=20\n",
    "result_title='figure_s3'\n",
    "df1=baseline_df_here[(baseline_df_here['n_dimensions']==n) | (baseline_df_here['is_embed']==0)].reset_index(drop=True)\n",
    "# run for each DV\n",
    "for i in range(len(DVs)): \n",
    "    dv=DVs[i]\n",
    "    result_title_i = f'{result_title}_{dv}'\n",
    "    vals = [dv]\n",
    "    df_here = extract_results(df1, cols, vals).reset_index(drop=True)\n",
    "    stat_df_here = run_pairwise_stats(df_here, y, methods_here, nperm=10000, alt='two-sided')\n",
    "    \n",
    "    bs_resx = return_bootstrap_info(df_here)\n",
    "    bs_resx['event']='baseline'\n",
    "    bs_resx['DV']=dv\n",
    "    bs_resx['n_dimensions']=n\n",
    "    \n",
    "    stat_df_here['event']='baseline'\n",
    "    stat_df_here['DV']=dv\n",
    "    stat_df_here['n_dimensions']=n\n",
    "    \n",
    "    stats_df_list.append(stat_df_here)\n",
    "    ci_list_here.append(bs_resx)\n",
    "    \n",
    "    barplot_signif(df_here, stat_df_here, y, hue_order=hue_order, hue_label='embedding_type', \n",
    "                   ylabel=y, xname='contrast', \n",
    "                   columns='ROI_name', ylim=ylim, yax=True, \n",
    "                   xvals=xvals_here, yvals=yvals_here, xlabels=CONTRAST_LABELS, title=f'{titles[i]}',\n",
    "                   outfn=f'{FINAL_PLOTS}/{result_title_i}.pdf')\n",
    "    print(result_title_i)\n",
    "\n",
    "stat_df=pd.concat(stats_df_list).reset_index(drop=True)\n",
    "bs_resx=pd.concat(ci_list_here).reset_index(drop=True)\n",
    "stat_df_here.to_csv(f'{FINAL_RESULTS}/{result_title}_pairwise_stats_cross_sectional.csv')\n",
    "bs_resx.to_csv(f'{FINAL_RESULTS}/{result_title}_confidence_interval_cross_sectional.csv')"
   ]
  },
  {
   "cell_type": "markdown",
   "id": "234f73b4-e967-4232-8b6b-b1bc5b7aba53",
   "metadata": {},
   "source": [
    "# Figure S4"
   ]
  },
  {
   "cell_type": "code",
   "execution_count": 21,
   "id": "26be8a3a-2a14-4685-85e3-a1558fd0febd",
   "metadata": {},
   "outputs": [
    {
     "name": "stdout",
     "output_type": "stream",
     "text": [
      "[0, 0, 2] {'nBack_emotion_vs_neutface': ['#FFFFFF', '#FFFFFF', '#ED5F68'], 'nBack_2_back_vs_0_back': ['#FFFFFF', '#FFFFFF', '#0F5257']} {'nBack_emotion_vs_neutface': ['\\\\', '+', ''], 'nBack_2_back_vs_0_back': ['\\\\', '+', '']}\n",
      "figure_s4_cbcl_scr_syn_totprob_t\n",
      "[0, 0, 2] {'nBack_emotion_vs_neutface': ['#FFFFFF', '#FFFFFF', '#ED5F68'], 'nBack_2_back_vs_0_back': ['#FFFFFF', '#FFFFFF', '#0F5257']} {'nBack_emotion_vs_neutface': ['\\\\', '+', ''], 'nBack_2_back_vs_0_back': ['\\\\', '+', '']}\n",
      "figure_s4_cbcl_scr_syn_internal_t\n",
      "[0, 0, 2] {'nBack_emotion_vs_neutface': ['#FFFFFF', '#FFFFFF', '#ED5F68'], 'nBack_2_back_vs_0_back': ['#FFFFFF', '#FFFFFF', '#0F5257']} {'nBack_emotion_vs_neutface': ['\\\\', '+', ''], 'nBack_2_back_vs_0_back': ['\\\\', '+', '']}\n",
      "figure_s4_cbcl_scr_syn_external_t\n"
     ]
    },
    {
     "data": {
      "text/plain": [
       "<Figure size 2735.75x500 with 0 Axes>"
      ]
     },
     "metadata": {},
     "output_type": "display_data"
    },
    {
     "data": {
      "text/plain": [
       "<Figure size 2735.75x500 with 0 Axes>"
      ]
     },
     "metadata": {},
     "output_type": "display_data"
    },
    {
     "data": {
      "text/plain": [
       "<Figure size 2735.75x500 with 0 Axes>"
      ]
     },
     "metadata": {},
     "output_type": "display_data"
    }
   ],
   "source": [
    "DVs = main_dvs\n",
    "methods_here = supp_methods_f4\n",
    "baseline_df_here = baseline_df[(baseline_df['fold']!='overall') & (baseline_df['embedding_type'].isin(methods_here))].reset_index(drop=True)\n",
    "\n",
    "titles=['CBCL total problem', 'CBCL internalizing', 'CBCL externalizing']\n",
    "\n",
    "xvals_here = {'EPHATE_control_PHATE_PLUS_FEATURES': (-0.25, -0.05), 'EPHATE_5_EPHATE_control': (-0.25, 0.25), 'EPHATE_5_PHATE_PLUS_FEATURES':(0.05, 0.25)}\n",
    "yvals_here = {'EPHATE_control_PHATE_PLUS_FEATURES':0.19, 'EPHATE_5_EPHATE_control':0.21, 'EPHATE_5_PHATE_PLUS_FEATURES': 0.19}\n",
    "ylim=(-0.1, 0.23)\n",
    "stats_df_list=[]\n",
    "ci_list_here=[]\n",
    "cols=['predictor']\n",
    "y='partial_corr_rho'\n",
    "hue_order=methods_here\n",
    "n=20\n",
    "result_title='figure_s4'\n",
    "df1=baseline_df_here[(baseline_df_here['n_dimensions']==n) | (baseline_df_here['is_embed']==0)].reset_index(drop=True)\n",
    "# run for each DV\n",
    "for i in range(len(DVs)): \n",
    "    dv=DVs[i]\n",
    "    result_title_i = f'{result_title}_{dv}'\n",
    "    vals = [dv]\n",
    "    df_here = extract_results(df1, cols, vals).reset_index(drop=True)\n",
    "    stat_df_here = run_pairwise_stats(df_here, y, methods_here, nperm=10000, alt='two-sided')\n",
    "    \n",
    "    bs_resx = return_bootstrap_info(df_here)\n",
    "    bs_resx['event']='baseline'\n",
    "    bs_resx['DV']=dv\n",
    "    bs_resx['n_dimensions']=n\n",
    "    \n",
    "    stat_df_here['event']='baseline'\n",
    "    stat_df_here['DV']=dv\n",
    "    stat_df_here['n_dimensions']=n\n",
    "    \n",
    "    stats_df_list.append(stat_df_here)\n",
    "    ci_list_here.append(bs_resx)\n",
    "    \n",
    "    barplot_signif_patterns(df_here, stat_df_here, y, hue_order=hue_order, hue_label='embedding_type', \n",
    "                   ylabel=y, xname='contrast', \n",
    "                   columns='ROI_name', ylim=ylim, yax=True, \n",
    "                   xvals=xvals_here, yvals=yvals_here, xlabels=CONTRAST_LABELS, title=f'{titles[i]}',\n",
    "                   outfn=f'{FINAL_PLOTS}/{result_title_i}.pdf')\n",
    "    print(result_title_i)\n",
    "\n",
    "stat_df=pd.concat(stats_df_list).reset_index(drop=True)\n",
    "bs_resx=pd.concat(ci_list_here).reset_index(drop=True)\n",
    "stat_df_here.to_csv(f'{FINAL_RESULTS}/{result_title}_pairwise_stats_cross_sectional.csv')\n",
    "bs_resx.to_csv(f'{FINAL_RESULTS}/{result_title}_confidence_interval_cross_sectional.csv')"
   ]
  },
  {
   "cell_type": "markdown",
   "id": "57f9e7ff-b8c0-4517-9fcc-241470d6619b",
   "metadata": {},
   "source": [
    "# Figure S5"
   ]
  },
  {
   "cell_type": "code",
   "execution_count": 20,
   "id": "17ab18a0-f712-417f-b0bc-f0daa99fade4",
   "metadata": {},
   "outputs": [
    {
     "name": "stdout",
     "output_type": "stream",
     "text": [
      "[3, 4, 2] {'nBack_emotion_vs_neutface': ['#FFFFFF', '#FFFFFF', '#ED5F68'], 'nBack_2_back_vs_0_back': ['#FFFFFF', '#FFFFFF', '#0F5257']} {'nBack_emotion_vs_neutface': ['oo', '--', ''], 'nBack_2_back_vs_0_back': ['oo', '--', '']}\n",
      "figure_s5_cbcl_scr_syn_totprob_t\n",
      "[3, 4, 2] {'nBack_emotion_vs_neutface': ['#FFFFFF', '#FFFFFF', '#ED5F68'], 'nBack_2_back_vs_0_back': ['#FFFFFF', '#FFFFFF', '#0F5257']} {'nBack_emotion_vs_neutface': ['oo', '--', ''], 'nBack_2_back_vs_0_back': ['oo', '--', '']}\n",
      "figure_s5_cbcl_scr_syn_internal_t\n",
      "[3, 4, 2] {'nBack_emotion_vs_neutface': ['#FFFFFF', '#FFFFFF', '#ED5F68'], 'nBack_2_back_vs_0_back': ['#FFFFFF', '#FFFFFF', '#0F5257']} {'nBack_emotion_vs_neutface': ['oo', '--', ''], 'nBack_2_back_vs_0_back': ['oo', '--', '']}\n",
      "figure_s5_cbcl_scr_syn_external_t\n"
     ]
    },
    {
     "data": {
      "text/plain": [
       "<Figure size 2670.5x500 with 0 Axes>"
      ]
     },
     "metadata": {},
     "output_type": "display_data"
    },
    {
     "data": {
      "text/plain": [
       "<Figure size 2670.5x500 with 0 Axes>"
      ]
     },
     "metadata": {},
     "output_type": "display_data"
    },
    {
     "data": {
      "text/plain": [
       "<Figure size 2670.5x500 with 0 Axes>"
      ]
     },
     "metadata": {},
     "output_type": "display_data"
    }
   ],
   "source": [
    "DVs = main_dvs\n",
    "methods_here = supp_methods_f5\n",
    "baseline_df_here = baseline_df[baseline_df['embedding_type'].isin(supp_methods_f5)].reset_index(drop=True)\n",
    "df1 = baseline_df_here[(baseline_df_here['fold']!='overall') & (baseline_df_here['n_dimensions']==n)].reset_index(drop=True)\n",
    "titles=['CBCL total problem', 'CBCL internalizing', 'CBCL externalizing']\n",
    "\n",
    "xvals_here = {'EPHATE_ADI_EPHATE_SSCEY': (-0.25, -0.05), 'EPHATE_5_EPHATE_ADI': (-0.25, 0.25), 'EPHATE_5_EPHATE_SSCEY':(0.05, 0.25)}\n",
    "yvals_here = {'EPHATE_ADI_EPHATE_SSCEY':0.19, 'EPHATE_5_EPHATE_SSCEY':0.19, 'EPHATE_5_EPHATE_ADI': 0.21}\n",
    "\n",
    "ylim=(-0.1, 0.23)\n",
    "stats_df_list=[]\n",
    "ci_list_here=[]\n",
    "cols=['predictor']\n",
    "y='partial_corr_rho'\n",
    "hue_order=supp_methods_f5\n",
    "n=20\n",
    "result_title='figure_s5'\n",
    "# run for each DV\n",
    "for i in range(len(DVs)): \n",
    "    dv=DVs[i]\n",
    "    result_title_i = f'{result_title}_{dv}'\n",
    "    vals = [dv]\n",
    "    df_here = extract_results(df1, cols, vals).reset_index(drop=True)\n",
    "    stat_df_here = run_pairwise_stats(df_here, y, methods_here, nperm=10000, alt='two-sided')\n",
    "    \n",
    "    bs_resx = return_bootstrap_info(df_here)\n",
    "    bs_resx['event']='baseline'\n",
    "    bs_resx['DV']=dv\n",
    "    bs_resx['n_dimensions']=n\n",
    "    \n",
    "    stat_df_here['event']='baseline'\n",
    "    stat_df_here['DV']=dv\n",
    "    stat_df_here['n_dimensions']=n\n",
    "    \n",
    "    stats_df_list.append(stat_df_here)\n",
    "    ci_list_here.append(bs_resx)\n",
    "    barplot_signif_patterns(df_here, stat_df_here, y, hue_order=hue_order, hue_label='embedding_type', \n",
    "                   ylabel=y, xname='contrast', \n",
    "                   columns='ROI_name', ylim=ylim, yax=True, \n",
    "                   xvals=xvals_here, yvals=yvals_here, xlabels=CONTRAST_LABELS, title=f'{titles[i]}',\n",
    "                   outfn=f'{FINAL_PLOTS}/{result_title_i}.pdf')\n",
    "    print(result_title_i)\n",
    "\n",
    "stat_df=pd.concat(stats_df_list).reset_index(drop=True)\n",
    "bs_resx=pd.concat(ci_list_here).reset_index(drop=True)\n",
    "stat_df_here.to_csv(f'{FINAL_RESULTS}/{result_title}_pairwise_stats_cross_sectional.csv')\n",
    "bs_resx.to_csv(f'{FINAL_RESULTS}/{result_title}_confidence_interval_cross_sectional.csv')"
   ]
  },
  {
   "cell_type": "code",
   "execution_count": 36,
   "id": "c83cd3e2-be15-41ee-b00e-10e99d9c2067",
   "metadata": {},
   "outputs": [],
   "source": [
    "# all these figures are cross-sectional\n",
    "all_stats=[]\n",
    "all_ci = []\n",
    "drop = ['r2z_p','n_per_fold','sorted_comparison','yname','perm_p','corrected_p','symbol']\n",
    "for result_title in ['figure2','figure3','figure4','figure_s2','figure_s3','figure_s4','figure_s5']:\n",
    "    stats_info = pd.read_csv(glob.glob(f'{FINAL_RESULTS}/{result_title}_pairwise_stats_*.csv')[0],index_col=0)\n",
    "    ci_info = pd.read_csv(glob.glob(f'{FINAL_RESULTS}/{result_title}_confidence_interval_*.csv')[0], index_col=0)\n",
    "    if result_title == 'figure_4':\n",
    "        event='2year'\n",
    "    else:\n",
    "        event='baseline'\n",
    "    stats_info['event']=np.repeat(event,len(stats_info))\n",
    "    stats_info.drop(drop, axis=1, inplace=True) # drop unnecessary/redundant info\n",
    "    ci_info['event']=np.repeat(event,len(ci_info))\n",
    "    try:\n",
    "        ci_info.drop(['predictor'],axis=1,inplace=True)\n",
    "    except:\n",
    "        continue\n",
    "    \n",
    "    all_stats.append(stats_info)\n",
    "    all_ci.append(ci_info)\n",
    "pd.concat(all_ci).reset_index(drop=True).to_csv(f'{FINAL_RESULTS}/data_table1.csv')\n",
    "pd.concat(all_stats).reset_index(drop=True).to_csv(f'{FINAL_RESULTS}/data_table2.csv')\n",
    "\n"
   ]
  }
 ],
 "metadata": {
  "kernelspec": {
   "display_name": "Python 3 (ipykernel)",
   "language": "python",
   "name": "python3"
  },
  "language_info": {
   "codemirror_mode": {
    "name": "ipython",
    "version": 3
   },
   "file_extension": ".py",
   "mimetype": "text/x-python",
   "name": "python",
   "nbconvert_exporter": "python",
   "pygments_lexer": "ipython3",
   "version": "3.12.3"
  }
 },
 "nbformat": 4,
 "nbformat_minor": 5
}
